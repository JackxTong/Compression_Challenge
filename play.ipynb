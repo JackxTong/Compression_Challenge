{
 "cells": [
  {
   "cell_type": "code",
   "execution_count": 1,
   "metadata": {},
   "outputs": [],
   "source": [
    "from process_wav import read_wav_file, brainwire_quant\n",
    "from arithmetic import load_probabilities, build_cdf, arithmetic_decode, arithmetic_encode"
   ]
  },
  {
   "cell_type": "code",
   "execution_count": 2,
   "metadata": {},
   "outputs": [],
   "source": [
    "# Load model\n",
    "probs = load_probabilities(\"ngram_prob_python.txt\")\n",
    "cdf = build_cdf(probs)"
   ]
  },
  {
   "cell_type": "code",
   "execution_count": 3,
   "metadata": {},
   "outputs": [
    {
     "data": {
      "text/plain": [
       "(1427664, dict)"
      ]
     },
     "execution_count": 3,
     "metadata": {},
     "output_type": "execute_result"
    }
   ],
   "source": [
    "len(cdf), type(cdf)"
   ]
  },
  {
   "cell_type": "code",
   "execution_count": null,
   "metadata": {},
   "outputs": [],
   "source": [
    "# Load and quantize a test file\n",
    "some_wav = './data/d1768885-813b-42b4-9b90-150a8b47e1db.wav'\n",
    "samples = read_wav_file(some_wav)\n",
    "quantized = [brainwire_quant(s) for s in samples]\n",
    "\n",
    "# Form n-grams\n",
    "n = 3\n",
    "symbols = [tuple(quantized[i:i+n]) for i in range(len(quantized) - n + 1)]\n",
    "\n",
    "# Encode\n",
    "code = arithmetic_encode(symbols, cdf) # this is a single float\n",
    "\n",
    "# Decode\n",
    "decoded_symbols = arithmetic_decode(code, cdf, len(symbols))"
   ]
  },
  {
   "cell_type": "code",
   "execution_count": null,
   "metadata": {},
   "outputs": [],
   "source": [
    "import struct\n",
    "\n",
    "def write_compressed(code, total_symbols, output_path):\n",
    "    '''Save the encoded into a file'''\n",
    "    with open(output_path, \"wb\") as f:\n",
    "        # Write the code (64-bit float)\n",
    "        f.write(struct.pack(\"d\", code))  # 'd' = double = 8 bytes\n",
    "        # Write the number of symbols (so decoder knows when to stop)\n",
    "        f.write(struct.pack(\"I\", total_symbols))  # 'I' = unsigned int = 4 bytes\n",
    "\n",
    "def read_compressed(input_path):\n",
    "    '''Load the encoded from a file'''\n",
    "    with open(input_path, \"rb\") as f:\n",
    "        code = struct.unpack(\"d\", f.read(8))[0]\n",
    "        total_symbols = struct.unpack(\"I\", f.read(4))[0]\n",
    "    return code, total_symbols\n",
    "\n",
    "write_compressed(code, len(symbols), \"compressed.bin\")\n"
   ]
  },
  {
   "cell_type": "code",
   "execution_count": null,
   "metadata": {},
   "outputs": [],
   "source": [
    "# compute compression ratio\n",
    "import os\n",
    "original_size = os.path.getsize(some_wav)\n",
    "compressed_size = os.path.getsize(\"compressed.bin\")\n",
    "print(f\"Compression ratio: {original_size / compressed_size:.2f}x\")"
   ]
  }
 ],
 "metadata": {
  "kernelspec": {
   "display_name": "Python 3",
   "language": "python",
   "name": "python3"
  },
  "language_info": {
   "codemirror_mode": {
    "name": "ipython",
    "version": 3
   },
   "file_extension": ".py",
   "mimetype": "text/x-python",
   "name": "python",
   "nbconvert_exporter": "python",
   "pygments_lexer": "ipython3",
   "version": "3.11.4"
  }
 },
 "nbformat": 4,
 "nbformat_minor": 2
}
