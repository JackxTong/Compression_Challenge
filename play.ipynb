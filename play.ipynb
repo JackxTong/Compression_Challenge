{
 "cells": [
  {
   "cell_type": "code",
   "execution_count": 2,
   "metadata": {},
   "outputs": [],
   "source": [
    "from process_wav import read_wav_file, brainwire_quant\n",
    "from arithmetic import load_probabilities, build_cdf, arithmetic_decode, arithmetic_encode"
   ]
  },
  {
   "cell_type": "code",
   "execution_count": 3,
   "metadata": {},
   "outputs": [],
   "source": [
    "# Load model\n",
    "probs = load_probabilities(\"ngram_prob_python.txt\")\n",
    "cdf = build_cdf(probs)"
   ]
  },
  {
   "cell_type": "code",
   "execution_count": 4,
   "metadata": {},
   "outputs": [
    {
     "data": {
      "text/plain": [
       "(1427664, dict)"
      ]
     },
     "execution_count": 4,
     "metadata": {},
     "output_type": "execute_result"
    }
   ],
   "source": [
    "len(cdf), type(cdf)"
   ]
  },
  {
   "cell_type": "code",
   "execution_count": 5,
   "metadata": {},
   "outputs": [],
   "source": [
    "# Load and quantize a test file\n",
    "some_wav = './data/d1768885-813b-42b4-9b90-150a8b47e1db.wav'\n",
    "samples = read_wav_file(some_wav)\n",
    "quantized = [brainwire_quant(s) for s in samples]"
   ]
  },
  {
   "cell_type": "code",
   "execution_count": 6,
   "metadata": {},
   "outputs": [],
   "source": [
    "# Form n-grams\n",
    "n = 3\n",
    "symbols = [tuple(quantized[i:i+n]) for i in range(len(quantized) - n + 1)]"
   ]
  },
  {
   "cell_type": "code",
   "execution_count": 22,
   "metadata": {},
   "outputs": [],
   "source": [
    "# len(symbols), symbols[:10]"
   ]
  },
  {
   "cell_type": "code",
   "execution_count": 8,
   "metadata": {},
   "outputs": [],
   "source": [
    "# Encode\n",
    "code = arithmetic_encode(symbols, cdf) # this is a single float\n",
    "\n",
    "# Decode\n",
    "decoded_symbols = arithmetic_decode(code, cdf, len(symbols))"
   ]
  },
  {
   "cell_type": "code",
   "execution_count": 23,
   "metadata": {},
   "outputs": [],
   "source": [
    "# check that the decoded symbols are the same as the original\n",
    "# symbols[:10], decoded_symbols[:10] # not the same yet"
   ]
  },
  {
   "cell_type": "code",
   "execution_count": 13,
   "metadata": {},
   "outputs": [],
   "source": [
    "import struct\n",
    "\n",
    "def write_compressed(code, total_symbols, output_path):\n",
    "    '''Save the encoded into a file'''\n",
    "    with open(output_path, \"wb\") as f:\n",
    "        # Write the code (64-bit float)\n",
    "        f.write(struct.pack(\"d\", code))  # 'd' = double = 8 bytes\n",
    "        # Write the number of symbols (so decoder knows when to stop)\n",
    "        f.write(struct.pack(\"I\", total_symbols))  # 'I' = unsigned int = 4 bytes\n",
    "\n",
    "def read_compressed(input_path):\n",
    "    '''Load the encoded from a file'''\n",
    "    with open(input_path, \"rb\") as f:\n",
    "        code = struct.unpack(\"d\", f.read(8))[0]\n",
    "        total_symbols = struct.unpack(\"I\", f.read(4))[0]\n",
    "    return code, total_symbols\n",
    "\n",
    "write_compressed(code, len(symbols), \"compressed.bin\")\n"
   ]
  },
  {
   "cell_type": "code",
   "execution_count": 14,
   "metadata": {},
   "outputs": [
    {
     "name": "stdout",
     "output_type": "stream",
     "text": [
      "Compression ratio: 16447.33x\n"
     ]
    }
   ],
   "source": [
    "# compute compression ratio\n",
    "import os\n",
    "original_size = os.path.getsize(some_wav)\n",
    "compressed_size = os.path.getsize(\"compressed.bin\")\n",
    "print(f\"Compression ratio: {original_size / compressed_size:.2f}x\")"
   ]
  },
  {
   "cell_type": "code",
   "execution_count": 17,
   "metadata": {},
   "outputs": [],
   "source": [
    "import numpy as np\n",
    "\n",
    "def fit_ar_model(signal, order=3):\n",
    "    X = np.column_stack([signal[i:-(order - i)] for i in range(order)])\n",
    "    y = signal[order:]\n",
    "    coeffs = np.linalg.lstsq(X, y, rcond=None)[0]\n",
    "    return coeffs\n",
    "\n",
    "def compute_residuals(signal, coeffs):\n",
    "    order = len(coeffs)\n",
    "    residuals = []\n",
    "    for i in range(order, len(signal)):\n",
    "        pred = sum(coeffs[j] * signal[i - order + j] for j in range(order))\n",
    "        residuals.append(signal[i] - pred)\n",
    "    return residuals\n",
    "\n",
    "def quantize_residuals(residuals, scale=16):\n",
    "    return [int(round(r / scale)) for r in residuals]\n",
    "\n"
   ]
  },
  {
   "cell_type": "markdown",
   "metadata": {},
   "source": [
    "### Fit AR model"
   ]
  },
  {
   "cell_type": "code",
   "execution_count": null,
   "metadata": {},
   "outputs": [],
   "source": [
    "# Step 2: Fit AR model (e.g., order-3)\n",
    "ar_order = 3\n",
    "coeffs = fit_ar_model(quantized, order=ar_order)\n",
    "\n",
    "# Step 3: Compute residuals\n",
    "residuals = compute_residuals(quantized, coeffs)"
   ]
  },
  {
   "cell_type": "code",
   "execution_count": 28,
   "metadata": {},
   "outputs": [
    {
     "data": {
      "text/plain": [
       "(98662, 98659, 3)"
      ]
     },
     "execution_count": 28,
     "metadata": {},
     "output_type": "execute_result"
    }
   ],
   "source": [
    "len(quantized), len(residuals), len(coeffs)"
   ]
  },
  {
   "cell_type": "code",
   "execution_count": 30,
   "metadata": {},
   "outputs": [
    {
     "data": {
      "text/plain": [
       "([8, 8, 11, 11, 8, 3, 6, 1, 11, 8],\n",
       " [1.0168287436426517,\n",
       "  -2.348786679118005,\n",
       "  -5.513288214462911,\n",
       "  1.5109744104229677,\n",
       "  -4.715165016297697,\n",
       "  9.177349857433601,\n",
       "  -0.890275365502454,\n",
       "  -7.314322025729446,\n",
       "  -2.293837268301899,\n",
       "  -6.959172950986773],\n",
       " array([0.11989662, 0.12187181, 0.73172944]))"
      ]
     },
     "execution_count": 30,
     "metadata": {},
     "output_type": "execute_result"
    }
   ],
   "source": [
    "quantized[:10], residuals[:10], coeffs"
   ]
  },
  {
   "cell_type": "markdown",
   "metadata": {},
   "source": [
    "### Evaluate goodness of fit with AR"
   ]
  },
  {
   "cell_type": "code",
   "execution_count": 29,
   "metadata": {},
   "outputs": [
    {
     "name": "stdout",
     "output_type": "stream",
     "text": [
      "MSE: 27.708680093847015\n",
      "MAE: 4.178020697221381\n",
      "R^2: 0.8642295288734263\n"
     ]
    }
   ],
   "source": [
    "def mse(y_true, y_pred):\n",
    "    return np.mean((np.array(y_true) - np.array(y_pred))**2)\n",
    "\n",
    "def mae(y_true, y_pred):\n",
    "    return np.mean(np.abs(np.array(y_true) - np.array(y_pred)))\n",
    "\n",
    "def r_squared(y_true, y_pred):\n",
    "    ss_res = np.sum((np.array(y_true) - np.array(y_pred))**2)\n",
    "    ss_tot = np.sum((np.array(y_true) - np.mean(y_true))**2)\n",
    "    return 1 - ss_res / ss_tot\n",
    "\n",
    "\n",
    "preds = []\n",
    "for i in range(ar_order, len(quantized)):\n",
    "    pred = sum(coeffs[j] * quantized[i - ar_order + j] for j in range(ar_order))\n",
    "    preds.append(pred)\n",
    "\n",
    "true = quantized[ar_order:]\n",
    "print(\"MSE:\", mse(true, preds))\n",
    "print(\"MAE:\", mae(true, preds))\n",
    "print(\"R^2:\", r_squared(true, preds))\n",
    "\n"
   ]
  },
  {
   "cell_type": "markdown",
   "metadata": {},
   "source": [
    "### Fit arithmetic on AR residuals"
   ]
  },
  {
   "cell_type": "code",
   "execution_count": 35,
   "metadata": {},
   "outputs": [],
   "source": [
    "def process_file(residuals, stats, ngram_size = 3):\n",
    "    quantized_residuals = quantize_residuals(residuals, scale=16)\n",
    "\n",
    "    residual_symbols = [tuple(quantized_residuals[i:i+ngram_size])\n",
    "                        for i in range(len(quantized_residuals) - ngram_size + 1)]\n",
    "    \n",
    "    for i in range(len(quantized_residuals) - ngram_size + 1):\n",
    "        ngram = tuple(quantized_residuals[i:i+ngram_size])\n",
    "        stats[ngram] += 1\n",
    "\n",
    "    return residual_symbols\n",
    "\n",
    "from collections import defaultdict\n",
    "stats = defaultdict(int)\n",
    "residual_symbols = process_file(residuals, stats)\n",
    "\n",
    "total_count = sum(stats.values())\n",
    "sorted_probs = sorted(((k, v / total_count) for k, v in stats.items()), key=lambda x: -x[1])\n"
   ]
  },
  {
   "cell_type": "code",
   "execution_count": 32,
   "metadata": {},
   "outputs": [
    {
     "name": "stdout",
     "output_type": "stream",
     "text": [
      "\n",
      "Sum of all probabilities: 1.0\n",
      "Number of unique symbols: 30\n"
     ]
    }
   ],
   "source": [
    "prob_file_name = \"residuals_ngram_prob.txt\"\n",
    "\n",
    "with open(prob_file_name, \"w\") as f:\n",
    "    f.write(\"Symbol Probabilities:\\n\")\n",
    "    for symbol, prob in sorted_probs:\n",
    "        f.write(f\"Symbol: {list(symbol)} | Probability: {prob:.20f}\\n\")\n",
    "\n",
    "print(f\"\\nSum of all probabilities: {sum(prob for _, prob in sorted_probs)}\")\n",
    "print(f\"Number of unique symbols: {len(sorted_probs)}\")"
   ]
  },
  {
   "cell_type": "code",
   "execution_count": 37,
   "metadata": {},
   "outputs": [
    {
     "data": {
      "text/plain": [
       "(30, dict)"
      ]
     },
     "execution_count": 37,
     "metadata": {},
     "output_type": "execute_result"
    }
   ],
   "source": [
    "# Load model\n",
    "probs = load_probabilities(prob_file_name)\n",
    "cdf = build_cdf(probs)\n",
    "len(cdf), type(cdf)"
   ]
  },
  {
   "cell_type": "code",
   "execution_count": 38,
   "metadata": {},
   "outputs": [],
   "source": [
    "code = arithmetic_encode(residual_symbols, cdf)\n",
    "write_compressed(code, len(residual_symbols), \"compressed_resid.bin\")"
   ]
  },
  {
   "cell_type": "code",
   "execution_count": 39,
   "metadata": {},
   "outputs": [
    {
     "name": "stdout",
     "output_type": "stream",
     "text": [
      "Compression ratio: 16447.33x\n"
     ]
    }
   ],
   "source": [
    "# compute compression ratio\n",
    "original_size = os.path.getsize(some_wav)\n",
    "compressed_size = os.path.getsize(\"compressed_resid.bin\")\n",
    "print(f\"Compression ratio: {original_size / compressed_size:.2f}x\")"
   ]
  },
  {
   "cell_type": "code",
   "execution_count": null,
   "metadata": {},
   "outputs": [],
   "source": []
  }
 ],
 "metadata": {
  "kernelspec": {
   "display_name": "Python 3",
   "language": "python",
   "name": "python3"
  },
  "language_info": {
   "codemirror_mode": {
    "name": "ipython",
    "version": 3
   },
   "file_extension": ".py",
   "mimetype": "text/x-python",
   "name": "python",
   "nbconvert_exporter": "python",
   "pygments_lexer": "ipython3",
   "version": "3.11.4"
  }
 },
 "nbformat": 4,
 "nbformat_minor": 2
}
